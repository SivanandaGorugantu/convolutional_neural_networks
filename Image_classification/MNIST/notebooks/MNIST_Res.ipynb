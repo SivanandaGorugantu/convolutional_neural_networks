{
 "cells": [
  {
   "cell_type": "code",
   "execution_count": 1,
   "metadata": {},
   "outputs": [
    {
     "data": {
      "text/plain": [
       "'1.14.0'"
      ]
     },
     "execution_count": 1,
     "metadata": {},
     "output_type": "execute_result"
    }
   ],
   "source": [
    "import tensorflow as tf\n",
    "tf.__version__"
   ]
  },
  {
   "cell_type": "code",
   "execution_count": 2,
   "metadata": {},
   "outputs": [
    {
     "name": "stderr",
     "output_type": "stream",
     "text": [
      "Using TensorFlow backend.\n"
     ]
    }
   ],
   "source": [
    "import keras\n",
    "from keras.layers import *\n",
    "from keras.callbacks import ModelCheckpoint\n",
    "\n",
    "from keras.datasets import mnist\n",
    "\n",
    "(x_train, y_train), (x_val, y_val) = mnist.load_data()\n"
   ]
  },
  {
   "cell_type": "code",
   "execution_count": 3,
   "metadata": {},
   "outputs": [
    {
     "name": "stdout",
     "output_type": "stream",
     "text": [
      "(48000,) (12000,)\n",
      "(48000, 28, 28) (12000, 28, 28)\n"
     ]
    }
   ],
   "source": [
    "from sklearn.model_selection import train_test_split\n",
    "X_train,X_test,Y_train,Y_test = train_test_split(x_train,y_train,test_size=0.2)\n",
    "print(Y_train.shape,Y_test.shape)\n",
    "print(X_train.shape,X_test.shape)"
   ]
  },
  {
   "cell_type": "code",
   "execution_count": 5,
   "metadata": {},
   "outputs": [
    {
     "data": {
      "image/png": "[encoded data removed]",
      "text/plain": [
       "<Figure size 432x288 with 1 Axes>"
      ]
     },
     "metadata": {
      "needs_background": "light"
     },
     "output_type": "display_data"
    },
    {
     "name": "stdout",
     "output_type": "stream",
     "text": [
      "2\n"
     ]
    }
   ],
   "source": [
    "import matplotlib.pyplot as plt\n",
    "idx = np.random.randint(len(X_train))\n",
    "Im = X_train[idx]\n",
    "plt.figure()\n",
    "plt.imshow(Im,cmap='gray')\n",
    "plt.show()\n",
    "print(Y_train[idx])"
   ]
  },
  {
   "cell_type": "code",
   "execution_count": 6,
   "metadata": {
    "scrolled": true
   },
   "outputs": [
    {
     "name": "stdout",
     "output_type": "stream",
     "text": [
      "WARNING:tensorflow:From /home/sivananda/.local/lib/python3.6/site-packages/keras/backend/tensorflow_backend.py:74: The name tf.get_default_graph is deprecated. Please use tf.compat.v1.get_default_graph instead.\n",
      "\n",
      "WARNING:tensorflow:From /home/sivananda/.local/lib/python3.6/site-packages/keras/backend/tensorflow_backend.py:517: The name tf.placeholder is deprecated. Please use tf.compat.v1.placeholder instead.\n",
      "\n",
      "WARNING:tensorflow:From /home/sivananda/.local/lib/python3.6/site-packages/keras/backend/tensorflow_backend.py:4138: The name tf.random_uniform is deprecated. Please use tf.random.uniform instead.\n",
      "\n",
      "WARNING:tensorflow:From /home/sivananda/.local/lib/python3.6/site-packages/keras/backend/tensorflow_backend.py:174: The name tf.get_default_session is deprecated. Please use tf.compat.v1.get_default_session instead.\n",
      "\n",
      "WARNING:tensorflow:From /home/sivananda/.local/lib/python3.6/site-packages/keras/backend/tensorflow_backend.py:181: The name tf.ConfigProto is deprecated. Please use tf.compat.v1.ConfigProto instead.\n",
      "\n",
      "WARNING:tensorflow:From /home/sivananda/.local/lib/python3.6/site-packages/keras/backend/tensorflow_backend.py:1834: The name tf.nn.fused_batch_norm is deprecated. Please use tf.compat.v1.nn.fused_batch_norm instead.\n",
      "\n",
      "WARNING:tensorflow:From /home/sivananda/.local/lib/python3.6/site-packages/keras/backend/tensorflow_backend.py:3976: The name tf.nn.max_pool is deprecated. Please use tf.nn.max_pool2d instead.\n",
      "\n",
      "__________________________________________________________________________________________________\n",
      "Layer (type)                    Output Shape         Param #     Connected to                     \n",
      "==================================================================================================\n",
      "input_1 (InputLayer)            (None, 28, 28, 1)    0                                            \n",
      "__________________________________________________________________________________________________\n",
      "conv2d_1 (Conv2D)               (None, 22, 22, 16)   800         input_1[0][0]                    \n",
      "__________________________________________________________________________________________________\n",
      "batch_normalization_1 (BatchNor (None, 22, 22, 16)   64          conv2d_1[0][0]                   \n",
      "__________________________________________________________________________________________________\n",
      "activation_1 (Activation)       (None, 22, 22, 16)   0           batch_normalization_1[0][0]      \n",
      "__________________________________________________________________________________________________\n",
      "conv2d_2 (Conv2D)               (None, 20, 20, 32)   4640        activation_1[0][0]               \n",
      "__________________________________________________________________________________________________\n",
      "batch_normalization_2 (BatchNor (None, 20, 20, 32)   128         conv2d_2[0][0]                   \n",
      "__________________________________________________________________________________________________\n",
      "activation_2 (Activation)       (None, 20, 20, 32)   0           batch_normalization_2[0][0]      \n",
      "__________________________________________________________________________________________________\n",
      "max_pooling2d_1 (MaxPooling2D)  (None, 10, 10, 32)   0           activation_2[0][0]               \n",
      "__________________________________________________________________________________________________\n",
      "conv2d_3 (Conv2D)               (None, 8, 8, 32)     9248        max_pooling2d_1[0][0]            \n",
      "__________________________________________________________________________________________________\n",
      "batch_normalization_3 (BatchNor (None, 8, 8, 32)     128         conv2d_3[0][0]                   \n",
      "__________________________________________________________________________________________________\n",
      "activation_3 (Activation)       (None, 8, 8, 32)     0           batch_normalization_3[0][0]      \n",
      "__________________________________________________________________________________________________\n",
      "conv2d_4 (Conv2D)               (None, 8, 8, 32)     1056        activation_3[0][0]               \n",
      "__________________________________________________________________________________________________\n",
      "batch_normalization_4 (BatchNor (None, 8, 8, 32)     128         conv2d_4[0][0]                   \n",
      "__________________________________________________________________________________________________\n",
      "activation_4 (Activation)       (None, 8, 8, 32)     0           batch_normalization_4[0][0]      \n",
      "__________________________________________________________________________________________________\n",
      "zero_padding2d_1 (ZeroPadding2D (None, 10, 10, 32)   0           activation_4[0][0]               \n",
      "__________________________________________________________________________________________________\n",
      "add_1 (Add)                     (None, 10, 10, 32)   0           max_pooling2d_1[0][0]            \n",
      "                                                                 zero_padding2d_1[0][0]           \n",
      "__________________________________________________________________________________________________\n",
      "conv2d_5 (Conv2D)               (None, 8, 8, 64)     18496       add_1[0][0]                      \n",
      "__________________________________________________________________________________________________\n",
      "batch_normalization_5 (BatchNor (None, 8, 8, 64)     256         conv2d_5[0][0]                   \n",
      "__________________________________________________________________________________________________\n",
      "activation_5 (Activation)       (None, 8, 8, 64)     0           batch_normalization_5[0][0]      \n",
      "__________________________________________________________________________________________________\n",
      "max_pooling2d_2 (MaxPooling2D)  (None, 4, 4, 64)     0           activation_5[0][0]               \n",
      "__________________________________________________________________________________________________\n",
      "conv2d_6 (Conv2D)               (None, 2, 2, 64)     36928       max_pooling2d_2[0][0]            \n",
      "__________________________________________________________________________________________________\n",
      "batch_normalization_6 (BatchNor (None, 2, 2, 64)     256         conv2d_6[0][0]                   \n",
      "__________________________________________________________________________________________________\n",
      "activation_6 (Activation)       (None, 2, 2, 64)     0           batch_normalization_6[0][0]      \n",
      "__________________________________________________________________________________________________\n",
      "conv2d_7 (Conv2D)               (None, 2, 2, 64)     4160        activation_6[0][0]               \n",
      "__________________________________________________________________________________________________\n",
      "batch_normalization_7 (BatchNor (None, 2, 2, 64)     256         conv2d_7[0][0]                   \n",
      "__________________________________________________________________________________________________\n",
      "activation_7 (Activation)       (None, 2, 2, 64)     0           batch_normalization_7[0][0]      \n",
      "__________________________________________________________________________________________________\n",
      "zero_padding2d_2 (ZeroPadding2D (None, 4, 4, 64)     0           activation_7[0][0]               \n",
      "__________________________________________________________________________________________________\n",
      "add_2 (Add)                     (None, 4, 4, 64)     0           max_pooling2d_2[0][0]            \n",
      "                                                                 zero_padding2d_2[0][0]           \n",
      "__________________________________________________________________________________________________\n",
      "conv2d_8 (Conv2D)               (None, 2, 2, 98)     56546       add_2[0][0]                      \n",
      "__________________________________________________________________________________________________\n",
      "batch_normalization_8 (BatchNor (None, 2, 2, 98)     392         conv2d_8[0][0]                   \n",
      "__________________________________________________________________________________________________\n",
      "activation_8 (Activation)       (None, 2, 2, 98)     0           batch_normalization_8[0][0]      \n",
      "__________________________________________________________________________________________________\n",
      "global_max_pooling2d_1 (GlobalM (None, 98)           0           activation_8[0][0]               \n",
      "__________________________________________________________________________________________________\n",
      "dense_1 (Dense)                 (None, 10)           990         global_max_pooling2d_1[0][0]     \n",
      "==================================================================================================\n",
      "Total params: 134,472\n",
      "Trainable params: 133,668\n",
      "Non-trainable params: 804\n",
      "__________________________________________________________________________________________________\n"
     ]
    }
   ],
   "source": [
    "from keras.models import Sequential\n",
    "from keras.models import Model\n",
    "# from keras.engine.input_layer import Input\n",
    "\n",
    "alpha = 0.25\n",
    "inp = (28,28,1)\n",
    "\n",
    "# model = Sequential()\n",
    "inp = Input(shape=inp)\n",
    "L1 = Conv2D(int(64*alpha),(7,7))(inp)\n",
    "L1 = BatchNormalization()(L1)\n",
    "L1 = Activation('relu')(L1)\n",
    "\n",
    "L2 = Conv2D(int(128*alpha),(3,3))(L1)\n",
    "L2 = BatchNormalization()(L2)\n",
    "L2 = Activation('relu')(L2)\n",
    "L2 = MaxPooling2D((2,2))(L2)\n",
    "\n",
    "L3 = Conv2D(int(128*alpha),(3,3))(L2)\n",
    "L3 = BatchNormalization()(L3)\n",
    "L3 = Activation('relu')(L3)\n",
    "\n",
    "L4 = Conv2D(int(128*alpha),(1,1))(L3)\n",
    "L4 = BatchNormalization()(L4)\n",
    "L4 = Activation('relu')(L4)\n",
    "L4 = ZeroPadding2D()(L4)\n",
    "\n",
    "add1 = Add()([L2,L4])\n",
    "\n",
    "L5 = Conv2D(int(256*alpha),(3,3))(add1)\n",
    "L5 = BatchNormalization()(L5)\n",
    "L5 = Activation('relu')(L5)\n",
    "L5 = MaxPooling2D((2,2))(L5)\n",
    "\n",
    "L6 = Conv2D(int(256*alpha),(3,3))(L5)\n",
    "L6 = BatchNormalization()(L6)\n",
    "L6 = Activation('relu')(L6)\n",
    "\n",
    "L7 = Conv2D(int(256*alpha),(1,1))(L6)\n",
    "L7 = BatchNormalization()(L7)\n",
    "L7 = Activation('relu')(L7)\n",
    "L7 = ZeroPadding2D()(L7)\n",
    "\n",
    "add2 = Add()([L5,L7])\n",
    "\n",
    "L8 = Conv2D(int(392*alpha),(3,3))(add2)\n",
    "L8 = BatchNormalization()(L8)\n",
    "L8 = Activation('relu')(L8)\n",
    "\n",
    "L9 = GlobalMaxPooling2D()(L8)\n",
    "\n",
    "output = Dense(10,activation='softmax')(L9)\n",
    "\n",
    "model = Model(inp,output)\n",
    "\n",
    "model.summary()"
   ]
  },
  {
   "cell_type": "code",
   "execution_count": 7,
   "metadata": {},
   "outputs": [],
   "source": [
    "import numpy as np\n",
    "\n",
    "Y_train = keras.utils.to_categorical(Y_train, 10)\n",
    "Y_test = keras.utils.to_categorical(Y_test, 10)\n",
    "y_val = keras.utils.to_categorical(y_val, 10)"
   ]
  },
  {
   "cell_type": "code",
   "execution_count": 8,
   "metadata": {},
   "outputs": [
    {
     "name": "stdout",
     "output_type": "stream",
     "text": [
      "(48000, 28, 28, 1)\n"
     ]
    }
   ],
   "source": [
    "from keras.preprocessing.image import ImageDataGenerator\n",
    "datagen = ImageDataGenerator(\n",
    "    rotation_range=25,\n",
    "    width_shift_range=0.15,\n",
    "    height_shift_range=0.15,\n",
    "    rescale=1/255.,\n",
    "    shear_range=0.15,\n",
    "    zoom_range=0.2)\n",
    "\n",
    "val_gen = ImageDataGenerator(\n",
    "    rotation_range=10,\n",
    "    width_shift_range=0.1,\n",
    "    height_shift_range=0.1,\n",
    "    rescale=1/255.,\n",
    "    shear_range=0.1,\n",
    "    zoom_range=0.1)\n",
    "\n",
    "# compute quantities required for featurewise normalization\n",
    "# (std, mean, and principal components if ZCA whitening is applied)\n",
    "datagen.fit(np.expand_dims(X_train,axis=-1))\n",
    "val_gen.fit(np.expand_dims(X_test,axis=-1))\n",
    "\n",
    "print(np.shape(np.expand_dims(X_train,axis=-1)))"
   ]
  },
  {
   "cell_type": "code",
   "execution_count": 9,
   "metadata": {
    "scrolled": true
   },
   "outputs": [
    {
     "name": "stdout",
     "output_type": "stream",
     "text": [
      "WARNING:tensorflow:From /home/sivananda/.local/lib/python3.6/site-packages/keras/optimizers.py:790: The name tf.train.Optimizer is deprecated. Please use tf.compat.v1.train.Optimizer instead.\n",
      "\n",
      "WARNING:tensorflow:From /home/sivananda/.local/lib/python3.6/site-packages/tensorflow/python/ops/math_grad.py:1250: add_dispatch_support.<locals>.wrapper (from tensorflow.python.ops.array_ops) is deprecated and will be removed in a future version.\n",
      "Instructions for updating:\n",
      "Use tf.where in 2.0, which has the same broadcast rule as np.where\n",
      "Epoch 1/50\n"
     ]
    },
    {
     "name": "stderr",
     "output_type": "stream",
     "text": [
      "/home/sivananda/.local/lib/python3.6/site-packages/keras/engine/training_generator.py:47: UserWarning: Using a generator with `use_multiprocessing=True` and multiple workers may duplicate your data. Please consider using the`keras.utils.Sequence class.\n",
      "  UserWarning('Using a generator with `use_multiprocessing=True`'\n"
     ]
    },
    {
     "name": "stdout",
     "output_type": "stream",
     "text": [
      "751/751 [==============================] - 65s 87ms/step - loss: 0.2475 - acc: 0.9365 - val_loss: 0.4792 - val_acc: 0.8595\n",
      "Epoch 2/50\n",
      "751/751 [==============================] - 64s 85ms/step - loss: 0.1360 - acc: 0.9642 - val_loss: 0.3277 - val_acc: 0.8983\n",
      "Epoch 3/50\n",
      "751/751 [==============================] - 66s 87ms/step - loss: 0.1215 - acc: 0.9677 - val_loss: 0.2731 - val_acc: 0.9129\n",
      "Epoch 4/50\n",
      "751/751 [==============================] - 66s 88ms/step - loss: 0.0852 - acc: 0.9772 - val_loss: 0.1861 - val_acc: 0.9480\n",
      "Epoch 5/50\n",
      "751/751 [==============================] - 66s 88ms/step - loss: 0.0805 - acc: 0.9796 - val_loss: 0.1039 - val_acc: 0.9683\n",
      "Epoch 6/50\n",
      "751/751 [==============================] - 67s 90ms/step - loss: 0.0856 - acc: 0.9783 - val_loss: 0.1909 - val_acc: 0.9366\n",
      "Epoch 7/50\n",
      "751/751 [==============================] - 72s 96ms/step - loss: 0.0783 - acc: 0.9788 - val_loss: 0.0985 - val_acc: 0.9673\n",
      "Epoch 8/50\n",
      "751/751 [==============================] - 71s 94ms/step - loss: 0.0696 - acc: 0.9816 - val_loss: 0.1209 - val_acc: 0.9699\n",
      "Epoch 9/50\n",
      "751/751 [==============================] - 66s 88ms/step - loss: 0.0698 - acc: 0.9813 - val_loss: 0.1150 - val_acc: 0.9709\n",
      "Epoch 10/50\n",
      "751/751 [==============================] - 68s 91ms/step - loss: 0.0640 - acc: 0.9838 - val_loss: 0.1983 - val_acc: 0.9451\n",
      "Epoch 11/50\n",
      "751/751 [==============================] - 73s 98ms/step - loss: 0.0609 - acc: 0.9848 - val_loss: 0.1363 - val_acc: 0.9596\n",
      "Epoch 12/50\n",
      "751/751 [==============================] - 71s 95ms/step - loss: 0.0492 - acc: 0.9866 - val_loss: 0.1386 - val_acc: 0.9615\n",
      "Epoch 13/50\n",
      "751/751 [==============================] - 70s 93ms/step - loss: 0.0516 - acc: 0.9864 - val_loss: 0.1227 - val_acc: 0.9665\n",
      "Epoch 14/50\n",
      "751/751 [==============================] - 74s 99ms/step - loss: 0.0582 - acc: 0.9854 - val_loss: 0.1383 - val_acc: 0.9574\n",
      "Epoch 15/50\n",
      "751/751 [==============================] - 75s 100ms/step - loss: 0.0539 - acc: 0.9855 - val_loss: 0.0898 - val_acc: 0.9762\n",
      "Epoch 16/50\n",
      "751/751 [==============================] - 75s 100ms/step - loss: 0.0591 - acc: 0.9857 - val_loss: 0.0698 - val_acc: 0.9799\n",
      "Epoch 17/50\n",
      "751/751 [==============================] - 71s 95ms/step - loss: 0.0531 - acc: 0.9863 - val_loss: 0.1051 - val_acc: 0.9725\n",
      "Epoch 18/50\n",
      "751/751 [==============================] - 69s 92ms/step - loss: 0.0529 - acc: 0.9865 - val_loss: 0.0518 - val_acc: 0.9836\n",
      "Epoch 19/50\n",
      "751/751 [==============================] - 72s 96ms/step - loss: 0.0433 - acc: 0.9881 - val_loss: 0.0716 - val_acc: 0.9825\n",
      "Epoch 20/50\n",
      "751/751 [==============================] - 72s 96ms/step - loss: 0.0525 - acc: 0.9865 - val_loss: 0.0436 - val_acc: 0.9872\n",
      "Epoch 21/50\n",
      "751/751 [==============================] - 72s 96ms/step - loss: 0.0490 - acc: 0.9863 - val_loss: 0.0709 - val_acc: 0.9829\n",
      "Epoch 22/50\n",
      "751/751 [==============================] - 72s 96ms/step - loss: 0.0428 - acc: 0.9886 - val_loss: 0.0312 - val_acc: 0.9907\n",
      "Epoch 23/50\n",
      "751/751 [==============================] - 76s 101ms/step - loss: 0.0538 - acc: 0.9873 - val_loss: 0.0523 - val_acc: 0.9867\n",
      "Epoch 24/50\n",
      "751/751 [==============================] - 75s 99ms/step - loss: 0.0469 - acc: 0.9883 - val_loss: 0.1024 - val_acc: 0.9688\n",
      "Epoch 25/50\n",
      "751/751 [==============================] - 70s 93ms/step - loss: 0.0430 - acc: 0.9884 - val_loss: 0.0618 - val_acc: 0.9818\n",
      "Epoch 26/50\n",
      "751/751 [==============================] - 78s 104ms/step - loss: 0.0412 - acc: 0.9896 - val_loss: 0.0826 - val_acc: 0.9791\n",
      "Epoch 27/50\n",
      "751/751 [==============================] - 78s 103ms/step - loss: 0.0495 - acc: 0.9870 - val_loss: 0.0678 - val_acc: 0.9833\n",
      "Epoch 28/50\n",
      "751/751 [==============================] - 69s 92ms/step - loss: 0.0424 - acc: 0.9893 - val_loss: 0.1057 - val_acc: 0.9708\n",
      "Epoch 29/50\n",
      "751/751 [==============================] - 79s 105ms/step - loss: 0.0412 - acc: 0.9896 - val_loss: 0.0507 - val_acc: 0.9876\n",
      "Epoch 30/50\n",
      "751/751 [==============================] - 77s 103ms/step - loss: 0.0432 - acc: 0.9886 - val_loss: 0.0566 - val_acc: 0.9843\n",
      "Epoch 31/50\n",
      "751/751 [==============================] - 72s 96ms/step - loss: 0.0379 - acc: 0.9903 - val_loss: 0.0760 - val_acc: 0.9796\n",
      "Epoch 32/50\n",
      "751/751 [==============================] - 81s 108ms/step - loss: 0.0352 - acc: 0.9914 - val_loss: 0.0367 - val_acc: 0.9888\n",
      "Epoch 33/50\n",
      "751/751 [==============================] - 71s 94ms/step - loss: 0.0377 - acc: 0.9907 - val_loss: 0.0561 - val_acc: 0.9856\n",
      "Epoch 34/50\n",
      "751/751 [==============================] - 75s 99ms/step - loss: 0.0494 - acc: 0.9876 - val_loss: 0.0453 - val_acc: 0.9889\n",
      "Epoch 35/50\n",
      "751/751 [==============================] - 81s 108ms/step - loss: 0.0349 - acc: 0.9909 - val_loss: 0.0817 - val_acc: 0.9809\n",
      "Epoch 36/50\n",
      "751/751 [==============================] - 70s 93ms/step - loss: 0.0321 - acc: 0.9909 - val_loss: 0.0403 - val_acc: 0.9874\n",
      "Epoch 37/50\n",
      "751/751 [==============================] - 77s 102ms/step - loss: 0.0478 - acc: 0.9876 - val_loss: 0.1050 - val_acc: 0.9722\n",
      "Epoch 38/50\n",
      "751/751 [==============================] - 85s 113ms/step - loss: 0.0353 - acc: 0.9907 - val_loss: 0.0682 - val_acc: 0.9804\n",
      "Epoch 39/50\n",
      "751/751 [==============================] - 79s 105ms/step - loss: 0.0411 - acc: 0.9897 - val_loss: 0.0564 - val_acc: 0.9816\n",
      "Epoch 40/50\n",
      "751/751 [==============================] - 71s 95ms/step - loss: 0.0342 - acc: 0.9913 - val_loss: 0.0390 - val_acc: 0.9877\n",
      "Epoch 41/50\n",
      "751/751 [==============================] - 78s 104ms/step - loss: 0.0334 - acc: 0.9921 - val_loss: 0.0605 - val_acc: 0.9814\n",
      "Epoch 42/50\n",
      "751/751 [==============================] - 78s 103ms/step - loss: 0.0365 - acc: 0.9908 - val_loss: 0.0585 - val_acc: 0.9834\n",
      "Epoch 43/50\n",
      "751/751 [==============================] - 74s 98ms/step - loss: 0.0368 - acc: 0.9914 - val_loss: 0.0719 - val_acc: 0.9839\n",
      "Epoch 44/50\n",
      "751/751 [==============================] - 72s 95ms/step - loss: 0.0314 - acc: 0.9914 - val_loss: 0.0791 - val_acc: 0.9786\n",
      "Epoch 45/50\n",
      "751/751 [==============================] - 78s 104ms/step - loss: 0.0305 - acc: 0.9917 - val_loss: 0.0632 - val_acc: 0.9815\n",
      "Epoch 46/50\n",
      "751/751 [==============================] - 77s 102ms/step - loss: 0.0329 - acc: 0.9914 - val_loss: 0.0498 - val_acc: 0.9870\n",
      "Epoch 47/50\n",
      "751/751 [==============================] - 79s 106ms/step - loss: 0.0322 - acc: 0.9915 - val_loss: 0.0414 - val_acc: 0.9902\n",
      "Epoch 48/50\n",
      "751/751 [==============================] - 78s 104ms/step - loss: 0.0364 - acc: 0.9910 - val_loss: 0.0388 - val_acc: 0.9905\n",
      "Epoch 49/50\n",
      "751/751 [==============================] - 70s 93ms/step - loss: 0.0264 - acc: 0.9929 - val_loss: 0.0375 - val_acc: 0.9889\n",
      "Epoch 50/50\n",
      "751/751 [==============================] - 78s 104ms/step - loss: 0.0409 - acc: 0.9907 - val_loss: 0.0567 - val_acc: 0.9841\n"
     ]
    }
   ],
   "source": [
    "import os\n",
    "model.compile(keras.optimizers.Adam(), loss='categorical_crossentropy', metrics=['accuracy'])\n",
    "checkpoint = ModelCheckpoint(os.path.join('/home/sivananda/MNIST/','stage_1_best.h5'),monitor='val_loss',save_weights_only=False,save_best_only=True)\n",
    "# fits the model on batches with real-time data augmentation:\n",
    "history = model.fit_generator(datagen.flow(np.expand_dims(X_train,axis=-1), Y_train, batch_size=64),\n",
    "                    steps_per_epoch=(len(X_train) // 64)+1, \n",
    "                    epochs=50, \n",
    "                    validation_data=val_gen.flow(np.expand_dims(X_test,axis=-1),Y_test,batch_size=64),\n",
    "                    validation_steps=(len(X_test)//64)+1,\n",
    "                    callbacks=[checkpoint],\n",
    "                    use_multiprocessing=True, workers=8)"
   ]
  },
  {
   "cell_type": "code",
   "execution_count": 10,
   "metadata": {},
   "outputs": [
    {
     "name": "stdout",
     "output_type": "stream",
     "text": [
      "dict_keys(['val_loss', 'val_acc', 'loss', 'acc'])\n"
     ]
    },
    {
     "data": {
      "image/png": "[encoded data removed]",
      "text/plain": [
       "<Figure size 432x288 with 1 Axes>"
      ]
     },
     "metadata": {
      "needs_background": "light"
     },
     "output_type": "display_data"
    }
   ],
   "source": [
    "print(history.history.keys())\n",
    "plt.plot(history.history['val_acc'],label=\"Val\")\n",
    "plt.plot(history.history['acc'],label=\"Train\")\n",
    "plt.legend()\n",
    "plt.show()"
   ]
  },
  {
   "cell_type": "code",
   "execution_count": 11,
   "metadata": {
    "scrolled": true
   },
   "outputs": [
    {
     "name": "stdout",
     "output_type": "stream",
     "text": [
      "Epoch 1/15\n",
      "188/188 [==============================] - 68s 364ms/step - loss: 0.0480 - acc: 0.9867 - val_loss: 0.0468 - val_acc: 0.9909\n",
      "Epoch 2/15\n",
      "188/188 [==============================] - 62s 331ms/step - loss: 0.0398 - acc: 0.9885 - val_loss: 0.0392 - val_acc: 0.9928\n",
      "Epoch 3/15\n",
      "188/188 [==============================] - 66s 350ms/step - loss: 0.0374 - acc: 0.9898 - val_loss: 0.0302 - val_acc: 0.9902\n",
      "Epoch 4/15\n",
      "188/188 [==============================] - 70s 371ms/step - loss: 0.0230 - acc: 0.9929 - val_loss: 0.0283 - val_acc: 0.9927\n",
      "Epoch 5/15\n",
      "188/188 [==============================] - 65s 345ms/step - loss: 0.0244 - acc: 0.9935 - val_loss: 0.0285 - val_acc: 0.9905\n",
      "Epoch 6/15\n",
      "188/188 [==============================] - 63s 335ms/step - loss: 0.0378 - acc: 0.9905 - val_loss: 0.0520 - val_acc: 0.9846\n",
      "Epoch 7/15\n",
      "188/188 [==============================] - 67s 356ms/step - loss: 0.0367 - acc: 0.9915 - val_loss: 0.0701 - val_acc: 0.9816\n",
      "Epoch 8/15\n",
      "188/188 [==============================] - 67s 358ms/step - loss: 0.0316 - acc: 0.9908 - val_loss: 0.0524 - val_acc: 0.9887\n",
      "Epoch 9/15\n",
      "188/188 [==============================] - 66s 352ms/step - loss: 0.0252 - acc: 0.9927 - val_loss: 0.0427 - val_acc: 0.9881\n",
      "Epoch 10/15\n",
      "188/188 [==============================] - 65s 343ms/step - loss: 0.0311 - acc: 0.9913 - val_loss: 0.0365 - val_acc: 0.9888\n",
      "Epoch 11/15\n",
      "188/188 [==============================] - 68s 360ms/step - loss: 0.0247 - acc: 0.9931 - val_loss: 0.0444 - val_acc: 0.9889\n",
      "Epoch 12/15\n",
      "188/188 [==============================] - 68s 364ms/step - loss: 0.0199 - acc: 0.9945 - val_loss: 0.0567 - val_acc: 0.9872\n",
      "Epoch 13/15\n",
      "188/188 [==============================] - 70s 373ms/step - loss: 0.0200 - acc: 0.9936 - val_loss: 0.0203 - val_acc: 0.9943\n",
      "Epoch 14/15\n",
      "188/188 [==============================] - 64s 342ms/step - loss: 0.0251 - acc: 0.9926 - val_loss: 0.0292 - val_acc: 0.9919\n",
      "Epoch 15/15\n",
      "188/188 [==============================] - 64s 341ms/step - loss: 0.0182 - acc: 0.9944 - val_loss: 0.0441 - val_acc: 0.9889\n",
      "Epoch 1/15"
     ]
    }
   ],
   "source": [
    "# model.load_weights(os.path.join('/home/sivananda/MNIST/','stage_1_best.h5'))\n",
    "checkpoint = ModelCheckpoint(os.path.join('/home/sivananda/MNIST/','stage_2_best.h5'),monitor='val_loss',save_weights_only=False,save_best_only=True)\n",
    "# fits the model on batches with real-time data augmentation:\n",
    "history = model.fit_generator(datagen.flow(np.expand_dims(X_train,axis=-1), Y_train, batch_size=256),\n",
    "                    steps_per_epoch=(len(X_train) // 256)+1, \n",
    "                    epochs=15, \n",
    "                    validation_data=val_gen.flow(np.expand_dims(X_test,axis=-1),Y_test,batch_size=256),\n",
    "                    validation_steps=(len(X_test)//256)+1,\n",
    "                    callbacks=[checkpoint],\n",
    "                    use_multiprocessing=True, workers=8)"
   ]
  },
  {
   "cell_type": "code",
   "execution_count": 12,
   "metadata": {
    "scrolled": true
   },
   "outputs": [
    {
     "name": "stdout",
     "output_type": "stream",
     "text": [
      "Epoch 1/15\n",
      "94/94 [==============================] - 63s 673ms/step - loss: 0.0328 - acc: 0.9892 - val_loss: 0.0329 - val_acc: 0.9889\n",
      "Epoch 2/15\n",
      "94/94 [==============================] - 64s 679ms/step - loss: 0.0237 - acc: 0.9921 - val_loss: 0.0251 - val_acc: 0.9961\n",
      "Epoch 3/15\n",
      "94/94 [==============================] - 73s 780ms/step - loss: 0.0210 - acc: 0.9936 - val_loss: 0.0176 - val_acc: 0.9948\n",
      "Epoch 4/15\n",
      "94/94 [==============================] - 64s 679ms/step - loss: 0.0127 - acc: 0.9948 - val_loss: 0.0210 - val_acc: 0.9935\n",
      "Epoch 5/15\n",
      "94/94 [==============================] - 62s 659ms/step - loss: 0.0133 - acc: 0.9964 - val_loss: 0.0294 - val_acc: 0.9896\n",
      "Epoch 6/15\n",
      "94/94 [==============================] - 66s 707ms/step - loss: 0.0185 - acc: 0.9941 - val_loss: 0.0245 - val_acc: 0.9928\n",
      "Epoch 7/15\n",
      "94/94 [==============================] - 68s 721ms/step - loss: 0.0195 - acc: 0.9944 - val_loss: 0.0380 - val_acc: 0.9883\n",
      "Epoch 8/15\n",
      "94/94 [==============================] - 61s 646ms/step - loss: 0.0123 - acc: 0.9960 - val_loss: 0.0298 - val_acc: 0.9936\n",
      "Epoch 9/15\n",
      "94/94 [==============================] - 64s 677ms/step - loss: 0.0086 - acc: 0.9976 - val_loss: 0.0275 - val_acc: 0.9889\n",
      "Epoch 10/15\n",
      "94/94 [==============================] - 72s 770ms/step - loss: 0.0101 - acc: 0.9969 - val_loss: 0.0237 - val_acc: 0.9935\n",
      "Epoch 11/15\n",
      "94/94 [==============================] - 75s 794ms/step - loss: 0.0111 - acc: 0.9969 - val_loss: 0.0245 - val_acc: 0.9948\n",
      "Epoch 12/15\n",
      "94/94 [==============================] - 62s 664ms/step - loss: 0.0055 - acc: 0.9987 - val_loss: 0.0387 - val_acc: 0.9896\n",
      "Epoch 13/15\n",
      "94/94 [==============================] - 64s 679ms/step - loss: 0.0036 - acc: 0.9994 - val_loss: 0.0111 - val_acc: 0.9974\n",
      "Epoch 14/15\n",
      "94/94 [==============================] - 73s 775ms/step - loss: 0.0267 - acc: 0.9919 - val_loss: 0.0353 - val_acc: 0.9909\n",
      "Epoch 15/15\n",
      "94/94 [==============================] - 68s 725ms/step - loss: 0.0248 - acc: 0.9929 - val_loss: 0.0188 - val_acc: 0.9935\n"
     ]
    }
   ],
   "source": [
    "model.compile(keras.optimizers.Adam(lr=1e-4), loss='categorical_crossentropy', metrics=['accuracy'])\n",
    "model.load_weights(os.path.join('/home/sivananda/MNIST/','stage_2_best.h5'))\n",
    "checkpoint = ModelCheckpoint(os.path.join('/home/sivananda/MNIST/','stage_3_best.h5'),monitor='val_loss',save_weights_only=False,save_best_only=True)\n",
    "# fits the model on batches with real-time data augmentation:\n",
    "history = model.fit_generator(datagen.flow(np.expand_dims(X_train,axis=-1), Y_train, batch_size=512),\n",
    "                    steps_per_epoch=(len(X_train) // 512)+1, \n",
    "                    epochs=15, \n",
    "                    validation_data=val_gen.flow(np.expand_dims(X_test,axis=-1),Y_test,batch_size=512),\n",
    "                    validation_steps=(len(X_test)//512)+1,\n",
    "                    callbacks=[checkpoint],\n",
    "                    use_multiprocessing=True, workers=8)"
   ]
  },
  {
   "cell_type": "code",
   "execution_count": 13,
   "metadata": {
    "scrolled": true
   },
   "outputs": [
    {
     "name": "stdout",
     "output_type": "stream",
     "text": [
      "Epoch 1/15\n",
      "47/47 [==============================] - 67s 1s/step - loss: 0.0201 - acc: 0.9930 - val_loss: 0.0333 - val_acc: 0.9902\n",
      "Epoch 2/15\n",
      "47/47 [==============================] - 67s 1s/step - loss: 0.0153 - acc: 0.9956 - val_loss: 0.0233 - val_acc: 0.9967\n",
      "Epoch 3/15\n",
      "47/47 [==============================] - 73s 2s/step - loss: 0.0122 - acc: 0.9962 - val_loss: 0.0121 - val_acc: 0.9954\n",
      "Epoch 4/15\n",
      "47/47 [==============================] - 69s 1s/step - loss: 0.0089 - acc: 0.9973 - val_loss: 0.0175 - val_acc: 0.9935\n",
      "Epoch 5/15\n",
      "47/47 [==============================] - 76s 2s/step - loss: 0.0098 - acc: 0.9975 - val_loss: 0.0244 - val_acc: 0.9935\n",
      "Epoch 6/15\n",
      "47/47 [==============================] - 70s 1s/step - loss: 0.0122 - acc: 0.9961 - val_loss: 0.0210 - val_acc: 0.9941\n",
      "Epoch 7/15\n",
      "47/47 [==============================] - 65s 1s/step - loss: 0.0140 - acc: 0.9958 - val_loss: 0.0345 - val_acc: 0.9889\n",
      "Epoch 8/15\n",
      "47/47 [==============================] - 66s 1s/step - loss: 0.0072 - acc: 0.9982 - val_loss: 0.0306 - val_acc: 0.9920\n",
      "Epoch 9/15\n",
      "47/47 [==============================] - 80s 2s/step - loss: 0.0057 - acc: 0.9984 - val_loss: 0.0242 - val_acc: 0.9902\n",
      "Epoch 10/15\n",
      "47/47 [==============================] - 79s 2s/step - loss: 0.0066 - acc: 0.9979 - val_loss: 0.0221 - val_acc: 0.9941\n",
      "Epoch 11/15\n",
      "47/47 [==============================] - 66s 1s/step - loss: 0.0079 - acc: 0.9988 - val_loss: 0.0242 - val_acc: 0.9948\n",
      "Epoch 12/15\n",
      "47/47 [==============================] - 65s 1s/step - loss: 0.0032 - acc: 0.9995 - val_loss: 0.0396 - val_acc: 0.9896\n",
      "Epoch 13/15\n",
      "47/47 [==============================] - 73s 2s/step - loss: 0.0032 - acc: 0.9994 - val_loss: 0.0115 - val_acc: 0.9974\n",
      "Epoch 14/15\n",
      "47/47 [==============================] - 74s 2s/step - loss: 0.0276 - acc: 0.9917 - val_loss: 0.0349 - val_acc: 0.9909\n",
      "Epoch 15/15\n",
      "47/47 [==============================] - 66s 1s/step - loss: 0.0270 - acc: 0.9920 - val_loss: 0.0169 - val_acc: 0.9949\n",
      "Epoch 1/15"
     ]
    }
   ],
   "source": [
    "model.compile(keras.optimizers.Adam(lr=1e-5), loss='categorical_crossentropy', metrics=['accuracy'])\n",
    "model.load_weights(os.path.join('/home/sivananda/MNIST/','stage_3_best.h5'))\n",
    "checkpoint = ModelCheckpoint(os.path.join('/home/sivananda/MNIST/','stage_4_best.h5'),monitor='val_loss',save_weights_only=False,save_best_only=True)\n",
    "# fits the model on batches with real-time data augmentation:\n",
    "history = model.fit_generator(datagen.flow(np.expand_dims(X_train,axis=-1), Y_train, batch_size=1024),\n",
    "                    steps_per_epoch=(len(X_train) // 1024)+1, \n",
    "                    epochs=15, \n",
    "                    validation_data=val_gen.flow(np.expand_dims(X_test,axis=-1),Y_test,batch_size=512),\n",
    "                    validation_steps=(len(X_test)//512)+1,\n",
    "                    callbacks=[checkpoint],\n",
    "                    use_multiprocessing=True, workers=8)"
   ]
  },
  {
   "cell_type": "code",
   "execution_count": 14,
   "metadata": {},
   "outputs": [],
   "source": [
    "model.load_weights(os.path.join('/home/sivananda/MNIST/','stage_4_best.h5'))\n",
    "model.save('/home/sivananda/MNIST/mnist_Res.h5')"
   ]
  },
  {
   "cell_type": "code",
   "execution_count": 15,
   "metadata": {},
   "outputs": [
    {
     "name": "stdout",
     "output_type": "stream",
     "text": [
      "10000/10000 [==============================] - 4s 362us/step\n"
     ]
    },
    {
     "data": {
      "text/plain": [
       "[0.014941846848172098, 0.9951]"
      ]
     },
     "execution_count": 15,
     "metadata": {},
     "output_type": "execute_result"
    }
   ],
   "source": [
    "\n",
    "res = model.evaluate(np.expand_dims(x_val,axis=-1)/255.,y_val)\n",
    "res"
   ]
  },
  {
   "cell_type": "code",
   "execution_count": 23,
   "metadata": {},
   "outputs": [
    {
     "data": {
      "image/png": "[encoded data removed]",
      "text/plain": [
       "<Figure size 432x288 with 1 Axes>"
      ]
     },
     "metadata": {
      "needs_background": "light"
     },
     "output_type": "display_data"
    },
    {
     "name": "stdout",
     "output_type": "stream",
     "text": [
      "3\n"
     ]
    }
   ],
   "source": [
    "import cv2\n",
    "import matplotlib.pyplot as plt\n",
    "import numpy as np\n",
    "# model.load_weights('/home/sivananda/MNIST/stage_3_model.hdf5')\n",
    "img = cv2.imread('/home/sivananda/Downloads/num3_dark.jpeg')\n",
    "img = cv2.cvtColor(img, cv2.COLOR_BGR2GRAY)\n",
    "img_bit = cv2.bitwise_not(img)\n",
    "_,img = cv2.threshold(img,100,255,cv2.THRESH_BINARY_INV)\n",
    "# img = cv2.medianBlur(img,5)\n",
    "# img = cv2.resize(img,(28,28),interpolation = cv2.LINEAR)\n",
    "# img = cv2.bilateralFilter(img,9,75,75)\n",
    "img = cv2.GaussianBlur(img,(5,5),0)\n",
    "img = cv2.resize(img,(28,28))\n",
    "inp = np.reshape(img, (1,28,28,1))/255.\n",
    "\n",
    "plt.imshow(img,cmap='gray')\n",
    "plt.show()\n",
    "p1 = model.predict(inp)\n",
    "# print(p)\n",
    "print(np.argmax(p1))\n"
   ]
  },
  {
   "cell_type": "code",
   "execution_count": 21,
   "metadata": {},
   "outputs": [
    {
     "data": {
      "image/png": "[encoded data removed]",
      "text/plain": [
       "<Figure size 432x288 with 1 Axes>"
      ]
     },
     "metadata": {
      "needs_background": "light"
     },
     "output_type": "display_data"
    },
    {
     "name": "stdout",
     "output_type": "stream",
     "text": [
      "Pred:  3\n",
      "Actual:  3\n"
     ]
    }
   ],
   "source": [
    "idx = np.random.randint(len(x_val))\n",
    "img = x_val[idx]\n",
    "\n",
    "plt.imshow(img,cmap='gray')\n",
    "plt.show()\n",
    "\n",
    "inp = np.reshape(img,(1,28,28,1))/255.\n",
    "p1 = model.predict(inp)\n",
    "# print(p)\n",
    "print(\"Pred: \",np.argmax(p1))\n",
    "print(\"Actual: \", np.argmax(y_val[idx]))\n"
   ]
  },
  {
   "cell_type": "code",
   "execution_count": 24,
   "metadata": {},
   "outputs": [
    {
     "data": {
      "text/plain": [
       "5878"
      ]
     },
     "execution_count": 24,
     "metadata": {},
     "output_type": "execute_result"
    }
   ],
   "source": [
    "idx"
   ]
  },
  {
   "cell_type": "code",
   "execution_count": null,
   "metadata": {},
   "outputs": [],
   "source": []
  }
 ],
 "metadata": {
  "kernelspec": {
   "display_name": "Python 3",
   "language": "python",
   "name": "python3"
  },
  "language_info": {
   "codemirror_mode": {
    "name": "ipython",
    "version": 3
   },
   "file_extension": ".py",
   "mimetype": "text/x-python",
   "name": "python",
   "nbconvert_exporter": "python",
   "pygments_lexer": "ipython3",
   "version": "3.6.9"
  }
 },
 "nbformat": 4,
 "nbformat_minor": 2
}
