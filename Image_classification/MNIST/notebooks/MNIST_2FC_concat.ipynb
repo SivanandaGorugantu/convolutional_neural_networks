{
 "cells": [
  {
   "cell_type": "code",
   "execution_count": 1,
   "metadata": {},
   "outputs": [
    {
     "data": {
      "text/plain": [
       "'1.14.0'"
      ]
     },
     "execution_count": 1,
     "metadata": {},
     "output_type": "execute_result"
    }
   ],
   "source": [
    "import tensorflow as tf\n",
    "tf.__version__"
   ]
  },
  {
   "cell_type": "code",
   "execution_count": 2,
   "metadata": {},
   "outputs": [
    {
     "name": "stderr",
     "output_type": "stream",
     "text": [
      "Using TensorFlow backend.\n"
     ]
    }
   ],
   "source": [
    "import keras\n",
    "from keras.layers import *\n",
    "from keras.callbacks import ModelCheckpoint\n",
    "\n",
    "from keras.datasets import mnist\n",
    "\n",
    "(x_train, y_train), (x_val, y_val) = mnist.load_data()\n"
   ]
  },
  {
   "cell_type": "code",
   "execution_count": 3,
   "metadata": {},
   "outputs": [
    {
     "name": "stdout",
     "output_type": "stream",
     "text": [
      "(48000,) (12000,)\n",
      "(48000, 28, 28) (12000, 28, 28)\n"
     ]
    }
   ],
   "source": [
    "from sklearn.model_selection import train_test_split\n",
    "X_train,X_test,Y_train,Y_test = train_test_split(x_train,y_train,test_size=0.2)\n",
    "print(Y_train.shape,Y_test.shape)\n",
    "print(X_train.shape,X_test.shape)"
   ]
  },
  {
   "cell_type": "code",
   "execution_count": 4,
   "metadata": {},
   "outputs": [
    {
     "data": {
      "text/plain": [
       "<Figure size 640x480 with 1 Axes>"
      ]
     },
     "metadata": {},
     "output_type": "display_data"
    },
    {
     "name": "stdout",
     "output_type": "stream",
     "text": [
      "9\n"
     ]
    }
   ],
   "source": [
    "import matplotlib.pyplot as plt\n",
    "idx = np.random.randint(len(X_train))\n",
    "Im = X_train[idx]\n",
    "plt.figure()\n",
    "plt.imshow(Im,cmap='gray')\n",
    "plt.show()\n",
    "print(Y_train[idx])"
   ]
  },
  {
   "cell_type": "code",
   "execution_count": 5,
   "metadata": {
    "scrolled": true
   },
   "outputs": [
    {
     "name": "stdout",
     "output_type": "stream",
     "text": [
      "WARNING:tensorflow:From /home/sivananda/.local/lib/python3.6/site-packages/keras/backend/tensorflow_backend.py:74: The name tf.get_default_graph is deprecated. Please use tf.compat.v1.get_default_graph instead.\n",
      "\n",
      "WARNING:tensorflow:From /home/sivananda/.local/lib/python3.6/site-packages/keras/backend/tensorflow_backend.py:517: The name tf.placeholder is deprecated. Please use tf.compat.v1.placeholder instead.\n",
      "\n",
      "WARNING:tensorflow:From /home/sivananda/.local/lib/python3.6/site-packages/keras/backend/tensorflow_backend.py:174: The name tf.get_default_session is deprecated. Please use tf.compat.v1.get_default_session instead.\n",
      "\n",
      "WARNING:tensorflow:From /home/sivananda/.local/lib/python3.6/site-packages/keras/backend/tensorflow_backend.py:181: The name tf.ConfigProto is deprecated. Please use tf.compat.v1.ConfigProto instead.\n",
      "\n",
      "WARNING:tensorflow:From /home/sivananda/.local/lib/python3.6/site-packages/keras/backend/tensorflow_backend.py:186: The name tf.Session is deprecated. Please use tf.compat.v1.Session instead.\n",
      "\n",
      "WARNING:tensorflow:From /home/sivananda/.local/lib/python3.6/site-packages/keras/backend/tensorflow_backend.py:1834: The name tf.nn.fused_batch_norm is deprecated. Please use tf.compat.v1.nn.fused_batch_norm instead.\n",
      "\n",
      "WARNING:tensorflow:From /home/sivananda/.local/lib/python3.6/site-packages/keras/backend/tensorflow_backend.py:3976: The name tf.nn.max_pool is deprecated. Please use tf.nn.max_pool2d instead.\n",
      "\n",
      "__________________________________________________________________________________________________\n",
      "Layer (type)                    Output Shape         Param #     Connected to                     \n",
      "==================================================================================================\n",
      "input_1 (InputLayer)            (None, 28, 28, 1)    0                                            \n",
      "__________________________________________________________________________________________________\n",
      "batch_normalization_1 (BatchNor (None, 28, 28, 1)    4           input_1[0][0]                    \n",
      "__________________________________________________________________________________________________\n",
      "conv2d_1 (Conv2D)               (None, 28, 28, 8)    16          batch_normalization_1[0][0]      \n",
      "__________________________________________________________________________________________________\n",
      "activation_1 (Activation)       (None, 28, 28, 8)    0           conv2d_1[0][0]                   \n",
      "__________________________________________________________________________________________________\n",
      "batch_normalization_2 (BatchNor (None, 28, 28, 8)    32          activation_1[0][0]               \n",
      "__________________________________________________________________________________________________\n",
      "conv2d_2 (Conv2D)               (None, 28, 28, 8)    584         batch_normalization_2[0][0]      \n",
      "__________________________________________________________________________________________________\n",
      "activation_2 (Activation)       (None, 28, 28, 8)    0           conv2d_2[0][0]                   \n",
      "__________________________________________________________________________________________________\n",
      "batch_normalization_3 (BatchNor (None, 28, 28, 8)    32          activation_2[0][0]               \n",
      "__________________________________________________________________________________________________\n",
      "max_pooling2d_1 (MaxPooling2D)  (None, 14, 14, 8)    0           batch_normalization_3[0][0]      \n",
      "__________________________________________________________________________________________________\n",
      "conv2d_3 (Conv2D)               (None, 14, 14, 16)   144         max_pooling2d_1[0][0]            \n",
      "__________________________________________________________________________________________________\n",
      "activation_3 (Activation)       (None, 14, 14, 16)   0           conv2d_3[0][0]                   \n",
      "__________________________________________________________________________________________________\n",
      "batch_normalization_4 (BatchNor (None, 14, 14, 16)   64          activation_3[0][0]               \n",
      "__________________________________________________________________________________________________\n",
      "concatenate_1 (Concatenate)     (None, 14, 14, 24)   0           max_pooling2d_1[0][0]            \n",
      "                                                                 batch_normalization_4[0][0]      \n",
      "__________________________________________________________________________________________________\n",
      "conv2d_4 (Conv2D)               (None, 14, 14, 24)   5208        concatenate_1[0][0]              \n",
      "__________________________________________________________________________________________________\n",
      "activation_4 (Activation)       (None, 14, 14, 24)   0           conv2d_4[0][0]                   \n",
      "__________________________________________________________________________________________________\n",
      "batch_normalization_5 (BatchNor (None, 14, 14, 24)   96          activation_4[0][0]               \n",
      "__________________________________________________________________________________________________\n",
      "max_pooling2d_2 (MaxPooling2D)  (None, 7, 7, 24)     0           batch_normalization_5[0][0]      \n",
      "__________________________________________________________________________________________________\n",
      "conv2d_5 (Conv2D)               (None, 7, 7, 32)     800         max_pooling2d_2[0][0]            \n",
      "__________________________________________________________________________________________________\n",
      "activation_5 (Activation)       (None, 7, 7, 32)     0           conv2d_5[0][0]                   \n",
      "__________________________________________________________________________________________________\n",
      "batch_normalization_6 (BatchNor (None, 7, 7, 32)     128         activation_5[0][0]               \n",
      "__________________________________________________________________________________________________\n",
      "concatenate_2 (Concatenate)     (None, 7, 7, 56)     0           max_pooling2d_2[0][0]            \n",
      "                                                                 batch_normalization_6[0][0]      \n",
      "__________________________________________________________________________________________________\n",
      "conv2d_6 (Conv2D)               (None, 7, 7, 64)     32320       concatenate_2[0][0]              \n",
      "__________________________________________________________________________________________________\n",
      "activation_6 (Activation)       (None, 7, 7, 64)     0           conv2d_6[0][0]                   \n",
      "__________________________________________________________________________________________________\n",
      "batch_normalization_7 (BatchNor (None, 7, 7, 64)     256         activation_6[0][0]               \n",
      "__________________________________________________________________________________________________\n",
      "max_pooling2d_3 (MaxPooling2D)  (None, 3, 3, 64)     0           batch_normalization_7[0][0]      \n",
      "__________________________________________________________________________________________________\n",
      "conv2d_7 (Conv2D)               (None, 3, 3, 64)     4160        max_pooling2d_3[0][0]            \n",
      "__________________________________________________________________________________________________\n",
      "activation_7 (Activation)       (None, 3, 3, 64)     0           conv2d_7[0][0]                   \n",
      "__________________________________________________________________________________________________\n",
      "batch_normalization_8 (BatchNor (None, 3, 3, 64)     256         activation_7[0][0]               \n",
      "__________________________________________________________________________________________________\n",
      "concatenate_3 (Concatenate)     (None, 3, 3, 128)    0           max_pooling2d_3[0][0]            \n",
      "                                                                 batch_normalization_8[0][0]      \n",
      "__________________________________________________________________________________________________\n",
      "conv2d_8 (Conv2D)               (None, 3, 3, 128)    147584      concatenate_3[0][0]              \n",
      "__________________________________________________________________________________________________\n",
      "activation_8 (Activation)       (None, 3, 3, 128)    0           conv2d_8[0][0]                   \n",
      "__________________________________________________________________________________________________\n",
      "batch_normalization_9 (BatchNor (None, 3, 3, 128)    512         activation_8[0][0]               \n",
      "__________________________________________________________________________________________________\n",
      "global_max_pooling2d_1 (GlobalM (None, 128)          0           batch_normalization_9[0][0]      \n",
      "__________________________________________________________________________________________________\n",
      "dense_1 (Dense)                 (None, 196)          25284       global_max_pooling2d_1[0][0]     \n",
      "__________________________________________________________________________________________________\n",
      "dense_2 (Dense)                 (None, 256)          50432       dense_1[0][0]                    \n",
      "__________________________________________________________________________________________________\n",
      "dense_3 (Dense)                 (None, 10)           2570        dense_2[0][0]                    \n",
      "==================================================================================================\n",
      "Total params: 270,482\n",
      "Trainable params: 269,792\n",
      "Non-trainable params: 690\n",
      "__________________________________________________________________________________________________\n"
     ]
    }
   ],
   "source": [
    "from keras.models import Sequential\n",
    "from keras.models import Model\n",
    "# from keras.engine.input_layer import Input\n",
    "\n",
    "inp = (28,28,1)\n",
    "\n",
    "# model = Sequential()\n",
    "inp = Input(shape=inp)\n",
    "L1 = BatchNormalization()(inp)\n",
    "L1 = Conv2D(8,(1,1),padding='same')(L1)\n",
    "L1 = Activation('relu')(L1)\n",
    "L1 = BatchNormalization()(L1)\n",
    "L1 = Conv2D(8,(3,3),padding='same')(L1)\n",
    "L1 = Activation('relu')(L1)\n",
    "L1 = BatchNormalization()(L1)\n",
    "L1 = MaxPool2D((2,2))(L1)\n",
    "\n",
    "L2 = Conv2D(16,(1,1),padding='same')(L1)\n",
    "L2 = Activation('relu')(L2)\n",
    "L2 = BatchNormalization()(L2)\n",
    "\n",
    "L2concat = Concatenate()([L1,L2])\n",
    "\n",
    "L2 = Conv2D(24,(3,3),padding='same')(L2concat)\n",
    "L2 = Activation('relu')(L2)\n",
    "L2 = BatchNormalization()(L2)\n",
    "L2 = MaxPool2D((2,2))(L2)\n",
    "\n",
    "L3 = Conv2D(32,(1,1),padding='same')(L2)\n",
    "L3 = Activation('relu')(L3)\n",
    "L3 = BatchNormalization()(L3)\n",
    "\n",
    "L3concat = Concatenate()([L2,L3])\n",
    "\n",
    "L3 = Conv2D(64,(3,3),padding='same')(L3concat)\n",
    "L3 = Activation('relu')(L3)\n",
    "L3 = BatchNormalization()(L3)\n",
    "L3 = MaxPool2D((2,2))(L3)\n",
    "\n",
    "L4 = Conv2D(64,(1,1),padding='same')(L3)\n",
    "L4 = Activation('relu')(L4)\n",
    "L4 = BatchNormalization()(L4)\n",
    "\n",
    "L4concat = Concatenate()([L3,L4])\n",
    "\n",
    "L4 = Conv2D(128,(3,3),padding='same')(L4concat)\n",
    "L4 = Activation('relu')(L4)\n",
    "L4 = BatchNormalization()(L4)\n",
    "\n",
    "L5 = GlobalMaxPooling2D()(L4)\n",
    "FC1 = Dense(196,activation='relu')(L5)\n",
    "FC2 = Dense(256,activation='relu')(FC1)\n",
    "\n",
    "output = Dense(10,activation='softmax')(FC2)\n",
    "\n",
    "model = Model(inp,output)\n",
    "\n",
    "model.summary()"
   ]
  },
  {
   "cell_type": "code",
   "execution_count": 7,
   "metadata": {},
   "outputs": [],
   "source": [
    "import numpy as np\n",
    "\n",
    "Y_train = keras.utils.to_categorical(Y_train, 10)\n",
    "Y_test = keras.utils.to_categorical(Y_test, 10)\n",
    "y_val = keras.utils.to_categorical(y_val, 10)"
   ]
  },
  {
   "cell_type": "code",
   "execution_count": 8,
   "metadata": {},
   "outputs": [
    {
     "name": "stdout",
     "output_type": "stream",
     "text": [
      "(48000, 28, 28, 1)\n"
     ]
    }
   ],
   "source": [
    "from keras.preprocessing.image import ImageDataGenerator\n",
    "datagen = ImageDataGenerator(\n",
    "    rotation_range=25,\n",
    "    width_shift_range=0.15,\n",
    "    height_shift_range=0.15,\n",
    "    rescale=1/255.,\n",
    "    shear_range=0.15,\n",
    "    zoom_range=0.2)\n",
    "\n",
    "val_gen = ImageDataGenerator(\n",
    "    rotation_range=10,\n",
    "    width_shift_range=0.1,\n",
    "    height_shift_range=0.1,\n",
    "    rescale=1/255.,\n",
    "    shear_range=0.1,\n",
    "    zoom_range=0.1)\n",
    "\n",
    "# compute quantities required for featurewise normalization\n",
    "# (std, mean, and principal components if ZCA whitening is applied)\n",
    "datagen.fit(np.expand_dims(X_train,axis=-1))\n",
    "val_gen.fit(np.expand_dims(X_test,axis=-1))\n",
    "\n",
    "print(np.shape(np.expand_dims(X_train,axis=-1)))"
   ]
  },
  {
   "cell_type": "code",
   "execution_count": 9,
   "metadata": {
    "scrolled": true
   },
   "outputs": [
    {
     "name": "stdout",
     "output_type": "stream",
     "text": [
      "WARNING:tensorflow:From /home/sivananda/.local/lib/python3.6/site-packages/keras/optimizers.py:790: The name tf.train.Optimizer is deprecated. Please use tf.compat.v1.train.Optimizer instead.\n",
      "\n",
      "WARNING:tensorflow:From /home/sivananda/.local/lib/python3.6/site-packages/tensorflow/python/ops/math_grad.py:1250: add_dispatch_support.<locals>.wrapper (from tensorflow.python.ops.array_ops) is deprecated and will be removed in a future version.\n",
      "Instructions for updating:\n",
      "Use tf.where in 2.0, which has the same broadcast rule as np.where\n",
      "Epoch 1/20\n"
     ]
    },
    {
     "name": "stderr",
     "output_type": "stream",
     "text": [
      "/home/sivananda/.local/lib/python3.6/site-packages/keras/engine/training_generator.py:47: UserWarning: Using a generator with `use_multiprocessing=True` and multiple workers may duplicate your data. Please consider using the`keras.utils.Sequence class.\n",
      "  UserWarning('Using a generator with `use_multiprocessing=True`'\n"
     ]
    },
    {
     "name": "stdout",
     "output_type": "stream",
     "text": [
      "751/751 [==============================] - 64s 85ms/step - loss: 0.1396 - acc: 0.9642 - val_loss: 0.2043 - val_acc: 0.9410\n",
      "Epoch 2/20\n",
      "751/751 [==============================] - 64s 86ms/step - loss: 0.0484 - acc: 0.9882 - val_loss: 0.3073 - val_acc: 0.9191\n",
      "Epoch 3/20\n",
      "751/751 [==============================] - 63s 84ms/step - loss: 0.0451 - acc: 0.9897 - val_loss: 0.1254 - val_acc: 0.9669\n",
      "Epoch 4/20\n",
      "751/751 [==============================] - 60s 80ms/step - loss: 0.0333 - acc: 0.9920 - val_loss: 0.1381 - val_acc: 0.9652\n",
      "Epoch 5/20\n",
      "751/751 [==============================] - 60s 80ms/step - loss: 0.0342 - acc: 0.9918 - val_loss: 0.0893 - val_acc: 0.9756\n",
      "Epoch 6/20\n",
      "751/751 [==============================] - 60s 80ms/step - loss: 0.0311 - acc: 0.9924 - val_loss: 0.1905 - val_acc: 0.9548\n",
      "Epoch 7/20\n",
      "751/751 [==============================] - 61s 81ms/step - loss: 0.0305 - acc: 0.9931 - val_loss: 0.1131 - val_acc: 0.9695\n",
      "Epoch 8/20\n",
      "751/751 [==============================] - 62s 82ms/step - loss: 0.0279 - acc: 0.9935 - val_loss: 0.1364 - val_acc: 0.9613\n",
      "Epoch 9/20\n",
      "751/751 [==============================] - 63s 84ms/step - loss: 0.0303 - acc: 0.9929 - val_loss: 0.1349 - val_acc: 0.9656\n",
      "Epoch 10/20\n",
      "751/751 [==============================] - 69s 92ms/step - loss: 0.0240 - acc: 0.9942 - val_loss: 0.0959 - val_acc: 0.9779\n",
      "Epoch 11/20\n",
      "751/751 [==============================] - 67s 90ms/step - loss: 0.0221 - acc: 0.9946 - val_loss: 0.1528 - val_acc: 0.9595\n",
      "Epoch 12/20\n",
      "751/751 [==============================] - 76s 102ms/step - loss: 0.0245 - acc: 0.9944 - val_loss: 0.1120 - val_acc: 0.9724\n",
      "Epoch 13/20\n",
      "751/751 [==============================] - 80s 106ms/step - loss: 0.0225 - acc: 0.9947 - val_loss: 0.1775 - val_acc: 0.9622\n",
      "Epoch 14/20\n",
      "751/751 [==============================] - 75s 99ms/step - loss: 0.0294 - acc: 0.9934 - val_loss: 0.1127 - val_acc: 0.9707\n",
      "Epoch 15/20\n",
      "751/751 [==============================] - 77s 102ms/step - loss: 0.0281 - acc: 0.9946 - val_loss: 0.1027 - val_acc: 0.9785\n",
      "Epoch 16/20\n",
      "751/751 [==============================] - 72s 96ms/step - loss: 0.0279 - acc: 0.9940 - val_loss: 0.0658 - val_acc: 0.9790\n",
      "Epoch 17/20\n",
      "751/751 [==============================] - 73s 97ms/step - loss: 0.0218 - acc: 0.9949 - val_loss: 0.1010 - val_acc: 0.9796\n",
      "Epoch 18/20\n",
      "751/751 [==============================] - 72s 96ms/step - loss: 0.0269 - acc: 0.9944 - val_loss: 0.1162 - val_acc: 0.9706\n",
      "Epoch 19/20\n",
      "751/751 [==============================] - 65s 86ms/step - loss: 0.0274 - acc: 0.9953 - val_loss: 0.0713 - val_acc: 0.9818\n",
      "Epoch 20/20\n",
      "751/751 [==============================] - 64s 86ms/step - loss: 0.0244 - acc: 0.9947 - val_loss: 0.1339 - val_acc: 0.9668\n"
     ]
    }
   ],
   "source": [
    "import os\n",
    "model.compile(keras.optimizers.Adam(), loss='categorical_crossentropy', metrics=['accuracy'])\n",
    "checkpoint = ModelCheckpoint(os.path.join('/home/sivananda/MNIST/','stage_1_best.h5'),monitor='val_loss',save_weights_only=False,save_best_only=True)\n",
    "# fits the model on batches with real-time data augmentation:\n",
    "history = model.fit_generator(datagen.flow(np.expand_dims(X_train,axis=-1), Y_train, batch_size=64),\n",
    "                    steps_per_epoch=(len(X_train) // 64)+1, \n",
    "                    epochs=20, \n",
    "                    validation_data=val_gen.flow(np.expand_dims(X_test,axis=-1),Y_test,batch_size=64),\n",
    "                    validation_steps=(len(X_test)//64)+1,\n",
    "                    callbacks=[checkpoint],\n",
    "                    use_multiprocessing=True, workers=8)"
   ]
  },
  {
   "cell_type": "code",
   "execution_count": 58,
   "metadata": {},
   "outputs": [
    {
     "name": "stdout",
     "output_type": "stream",
     "text": [
      "dict_keys(['val_loss', 'val_acc', 'loss', 'acc'])\n"
     ]
    },
    {
     "data": {
      "image/png": "[encoded data removed]",
      "text/plain": [
       "<Figure size 432x288 with 1 Axes>"
      ]
     },
     "metadata": {
      "needs_background": "light"
     },
     "output_type": "display_data"
    }
   ],
   "source": [
    "print(history.history.keys())\n",
    "plt.plot(history.history['val_acc'],label=\"Val\")\n",
    "plt.plot(history.history['acc'],label=\"Train\")\n",
    "plt.legend()\n",
    "plt.show()"
   ]
  },
  {
   "cell_type": "code",
   "execution_count": 11,
   "metadata": {
    "scrolled": true
   },
   "outputs": [
    {
     "name": "stdout",
     "output_type": "stream",
     "text": [
      "Epoch 1/15\n",
      "188/188 [==============================] - 64s 341ms/step - loss: 0.0431 - acc: 0.9880 - val_loss: 0.1182 - val_acc: 0.9741\n",
      "Epoch 2/15\n",
      "188/188 [==============================] - 66s 349ms/step - loss: 0.0443 - acc: 0.9906 - val_loss: 0.0941 - val_acc: 0.9767\n",
      "Epoch 3/15\n",
      "188/188 [==============================] - 81s 429ms/step - loss: 0.0394 - acc: 0.9899 - val_loss: 0.0662 - val_acc: 0.9818\n",
      "Epoch 4/15\n",
      "188/188 [==============================] - 78s 417ms/step - loss: 0.0350 - acc: 0.9917 - val_loss: 0.0737 - val_acc: 0.9806\n",
      "Epoch 5/15\n",
      "188/188 [==============================] - 75s 398ms/step - loss: 0.0365 - acc: 0.9905 - val_loss: 0.0797 - val_acc: 0.9787\n",
      "Epoch 6/15\n",
      "188/188 [==============================] - 67s 355ms/step - loss: 0.0368 - acc: 0.9908 - val_loss: 0.0991 - val_acc: 0.9790\n",
      "Epoch 7/15\n",
      "188/188 [==============================] - 77s 411ms/step - loss: 0.0451 - acc: 0.9896 - val_loss: 0.0590 - val_acc: 0.9811\n",
      "Epoch 8/15\n",
      "188/188 [==============================] - 81s 429ms/step - loss: 0.0378 - acc: 0.9923 - val_loss: 0.0555 - val_acc: 0.9850\n",
      "Epoch 9/15\n",
      "188/188 [==============================] - 73s 388ms/step - loss: 0.0340 - acc: 0.9923 - val_loss: 0.0825 - val_acc: 0.9805\n",
      "Epoch 10/15\n",
      "188/188 [==============================] - 69s 368ms/step - loss: 0.0241 - acc: 0.9936 - val_loss: 0.0878 - val_acc: 0.9814\n",
      "Epoch 11/15\n",
      "188/188 [==============================] - 68s 362ms/step - loss: 0.0280 - acc: 0.9940 - val_loss: 0.1168 - val_acc: 0.9704\n",
      "Epoch 12/15\n",
      "188/188 [==============================] - 75s 398ms/step - loss: 0.0348 - acc: 0.9920 - val_loss: 0.0649 - val_acc: 0.9846\n",
      "Epoch 13/15\n",
      "188/188 [==============================] - 79s 421ms/step - loss: 0.0336 - acc: 0.9926 - val_loss: 0.1029 - val_acc: 0.9801\n",
      "Epoch 14/15\n",
      "188/188 [==============================] - 77s 407ms/step - loss: 0.0340 - acc: 0.9911 - val_loss: 0.0832 - val_acc: 0.9825\n",
      "Epoch 15/15\n",
      "188/188 [==============================] - 74s 394ms/step - loss: 0.0326 - acc: 0.9921 - val_loss: 0.0644 - val_acc: 0.9846\n"
     ]
    }
   ],
   "source": [
    "# model.load_weights(os.path.join('/home/sivananda/MNIST/','stage_1_best.h5'))\n",
    "checkpoint = ModelCheckpoint(os.path.join('/home/sivananda/MNIST/','stage_2_best.h5'),monitor='val_loss',save_weights_only=False,save_best_only=True)\n",
    "# fits the model on batches with real-time data augmentation:\n",
    "history = model.fit_generator(datagen.flow(np.expand_dims(X_train,axis=-1), Y_train, batch_size=256),\n",
    "                    steps_per_epoch=(len(X_train) // 256)+1, \n",
    "                    epochs=15, \n",
    "                    validation_data=val_gen.flow(np.expand_dims(X_test,axis=-1),Y_test,batch_size=256),\n",
    "                    validation_steps=(len(X_test)//256)+1,\n",
    "                    callbacks=[checkpoint],\n",
    "                    use_multiprocessing=True, workers=8)"
   ]
  },
  {
   "cell_type": "code",
   "execution_count": 13,
   "metadata": {
    "scrolled": true
   },
   "outputs": [
    {
     "name": "stdout",
     "output_type": "stream",
     "text": [
      "Epoch 1/15\n",
      "94/94 [==============================] - 64s 679ms/step - loss: 0.0568 - acc: 0.9846 - val_loss: 0.0505 - val_acc: 0.9889\n",
      "Epoch 2/15\n",
      "94/94 [==============================] - 69s 731ms/step - loss: 0.0311 - acc: 0.9916 - val_loss: 0.0595 - val_acc: 0.9870\n",
      "Epoch 3/15\n",
      "94/94 [==============================] - 72s 761ms/step - loss: 0.0253 - acc: 0.9925 - val_loss: 0.0356 - val_acc: 0.9896\n",
      "Epoch 4/15\n",
      "94/94 [==============================] - 74s 790ms/step - loss: 0.0202 - acc: 0.9938 - val_loss: 0.0479 - val_acc: 0.9876\n",
      "Epoch 5/15\n",
      "94/94 [==============================] - 68s 726ms/step - loss: 0.0268 - acc: 0.9911 - val_loss: 0.0367 - val_acc: 0.9884\n",
      "Epoch 6/15\n",
      "94/94 [==============================] - 75s 796ms/step - loss: 0.0186 - acc: 0.9944 - val_loss: 0.0494 - val_acc: 0.9898\n",
      "Epoch 7/15\n",
      "94/94 [==============================] - 81s 857ms/step - loss: 0.0153 - acc: 0.9959 - val_loss: 0.0295 - val_acc: 0.9924\n",
      "Epoch 8/15\n",
      "94/94 [==============================] - 80s 849ms/step - loss: 0.0108 - acc: 0.9976 - val_loss: 0.0127 - val_acc: 0.9962\n",
      "Epoch 9/15\n",
      "94/94 [==============================] - 79s 842ms/step - loss: 0.0385 - acc: 0.9887 - val_loss: 0.0454 - val_acc: 0.9903\n",
      "Epoch 10/15\n",
      "94/94 [==============================] - 80s 854ms/step - loss: 0.0303 - acc: 0.9908 - val_loss: 0.0425 - val_acc: 0.9888\n",
      "Epoch 11/15\n",
      "94/94 [==============================] - 78s 830ms/step - loss: 0.0333 - acc: 0.9906 - val_loss: 0.0268 - val_acc: 0.9917\n",
      "Epoch 12/15\n",
      "94/94 [==============================] - 84s 890ms/step - loss: 0.0362 - acc: 0.9906 - val_loss: 0.0375 - val_acc: 0.9917\n",
      "Epoch 13/15\n",
      "94/94 [==============================] - 84s 895ms/step - loss: 0.0281 - acc: 0.9919 - val_loss: 0.0431 - val_acc: 0.9897\n",
      "Epoch 14/15\n",
      "94/94 [==============================] - 81s 866ms/step - loss: 0.0384 - acc: 0.9897 - val_loss: 0.0323 - val_acc: 0.9910\n",
      "Epoch 15/15\n",
      "94/94 [==============================] - 88s 935ms/step - loss: 0.0307 - acc: 0.9923 - val_loss: 0.0462 - val_acc: 0.9893\n"
     ]
    }
   ],
   "source": [
    "model.compile(keras.optimizers.Adam(lr=1e-4), loss='categorical_crossentropy', metrics=['accuracy'])\n",
    "model.load_weights(os.path.join('/home/sivananda/MNIST/','stage_2_best.h5'))\n",
    "checkpoint = ModelCheckpoint(os.path.join('/home/sivananda/MNIST/','stage_3_best.h5'),monitor='val_loss',save_weights_only=False,save_best_only=True)\n",
    "# fits the model on batches with real-time data augmentation:\n",
    "history = model.fit_generator(datagen.flow(np.expand_dims(X_train,axis=-1), Y_train, batch_size=512),\n",
    "                    steps_per_epoch=(len(X_train) // 512)+1, \n",
    "                    epochs=15, \n",
    "                    validation_data=val_gen.flow(np.expand_dims(X_test,axis=-1),Y_test,batch_size=512),\n",
    "                    validation_steps=(len(X_test)//512)+1,\n",
    "                    callbacks=[checkpoint],\n",
    "                    use_multiprocessing=True, workers=8)"
   ]
  },
  {
   "cell_type": "code",
   "execution_count": 15,
   "metadata": {
    "scrolled": true
   },
   "outputs": [
    {
     "name": "stdout",
     "output_type": "stream",
     "text": [
      "Epoch 1/15\n",
      "47/47 [==============================] - 82s 2s/step - loss: 0.0206 - acc: 0.9927 - val_loss: 0.0381 - val_acc: 0.9909\n",
      "Epoch 2/15\n",
      "47/47 [==============================] - 104s 2s/step - loss: 0.0140 - acc: 0.9961 - val_loss: 0.0588 - val_acc: 0.9850\n",
      "Epoch 3/15\n",
      "47/47 [==============================] - 82s 2s/step - loss: 0.0135 - acc: 0.9959 - val_loss: 0.0333 - val_acc: 0.9896\n",
      "Epoch 4/15\n",
      "47/47 [==============================] - 86s 2s/step - loss: 0.0110 - acc: 0.9969 - val_loss: 0.0486 - val_acc: 0.9876\n",
      "Epoch 5/15\n",
      "47/47 [==============================] - 119s 3s/step - loss: 0.0094 - acc: 0.9966 - val_loss: 0.0310 - val_acc: 0.9902\n",
      "Epoch 6/15\n",
      "47/47 [==============================] - 138s 3s/step - loss: 0.0056 - acc: 0.9989 - val_loss: 0.0537 - val_acc: 0.9902\n",
      "Epoch 7/15\n",
      "47/47 [==============================] - 121s 3s/step - loss: 0.0062 - acc: 0.9987 - val_loss: 0.0306 - val_acc: 0.9922\n",
      "Epoch 8/15\n",
      "47/47 [==============================] - 124s 3s/step - loss: 0.0055 - acc: 0.9993 - val_loss: 0.0104 - val_acc: 0.9976\n",
      "Epoch 9/15\n",
      "47/47 [==============================] - 127s 3s/step - loss: 0.0444 - acc: 0.9882 - val_loss: 0.0483 - val_acc: 0.9889\n",
      "Epoch 10/15\n",
      "47/47 [==============================] - 128s 3s/step - loss: 0.0353 - acc: 0.9901 - val_loss: 0.0434 - val_acc: 0.9883\n",
      "Epoch 11/15\n",
      "47/47 [==============================] - 128s 3s/step - loss: 0.0410 - acc: 0.9888 - val_loss: 0.0266 - val_acc: 0.9902\n",
      "Epoch 12/15\n",
      "47/47 [==============================] - 127s 3s/step - loss: 0.0414 - acc: 0.9892 - val_loss: 0.0426 - val_acc: 0.9889\n",
      "Epoch 13/15\n",
      "47/47 [==============================] - 124s 3s/step - loss: 0.0327 - acc: 0.9904 - val_loss: 0.0467 - val_acc: 0.9889\n",
      "Epoch 14/15\n",
      "47/47 [==============================] - 124s 3s/step - loss: 0.0448 - acc: 0.9885 - val_loss: 0.0369 - val_acc: 0.9902\n",
      "Epoch 15/15\n",
      "47/47 [==============================] - 123s 3s/step - loss: 0.0375 - acc: 0.9903 - val_loss: 0.0479 - val_acc: 0.9902\n"
     ]
    }
   ],
   "source": [
    "model.compile(keras.optimizers.Adam(lr=1e-5), loss='categorical_crossentropy', metrics=['accuracy'])\n",
    "model.load_weights(os.path.join('/home/sivananda/MNIST/','stage_3_best.h5'))\n",
    "checkpoint = ModelCheckpoint(os.path.join('/home/sivananda/MNIST/','stage_4_best.h5'),monitor='val_loss',save_weights_only=False,save_best_only=True)\n",
    "# fits the model on batches with real-time data augmentation:\n",
    "history = model.fit_generator(datagen.flow(np.expand_dims(X_train,axis=-1), Y_train, batch_size=1024),\n",
    "                    steps_per_epoch=(len(X_train) // 1024)+1, \n",
    "                    epochs=15, \n",
    "                    validation_data=val_gen.flow(np.expand_dims(X_test,axis=-1),Y_test,batch_size=512),\n",
    "                    validation_steps=(len(X_test)//512)+1,\n",
    "                    callbacks=[checkpoint],\n",
    "                    use_multiprocessing=True, workers=8)"
   ]
  },
  {
   "cell_type": "code",
   "execution_count": 16,
   "metadata": {},
   "outputs": [],
   "source": [
    "model.load_weights(os.path.join('/home/sivananda/MNIST/','stage_4_best.h5'))\n",
    "model.save('/home/sivananda/MNIST/mnist2FC_concat.h5')"
   ]
  },
  {
   "cell_type": "code",
   "execution_count": 17,
   "metadata": {},
   "outputs": [
    {
     "name": "stdout",
     "output_type": "stream",
     "text": [
      "10000/10000 [==============================] - 9s 888us/step\n"
     ]
    },
    {
     "data": {
      "text/plain": [
       "[0.031972161490940336, 0.992]"
      ]
     },
     "execution_count": 17,
     "metadata": {},
     "output_type": "execute_result"
    }
   ],
   "source": [
    "\n",
    "res = model.evaluate(np.expand_dims(x_val,axis=-1)/255.,y_val)\n",
    "res"
   ]
  },
  {
   "cell_type": "code",
   "execution_count": 51,
   "metadata": {},
   "outputs": [
    {
     "data": {
      "image/png": "[encoded data removed]",
      "text/plain": [
       "<Figure size 432x288 with 1 Axes>"
      ]
     },
     "metadata": {
      "needs_background": "light"
     },
     "output_type": "display_data"
    },
    {
     "name": "stdout",
     "output_type": "stream",
     "text": [
      "5\n"
     ]
    }
   ],
   "source": [
    "import cv2\n",
    "import matplotlib.pyplot as plt\n",
    "import numpy as np\n",
    "# model.load_weights('/home/sivananda/MNIST/stage_3_model.hdf5')\n",
    "img = cv2.imread('/home/sivananda/Downloads/num5_p.jpeg')\n",
    "img = cv2.cvtColor(img, cv2.COLOR_BGR2GRAY)\n",
    "img_bit = cv2.bitwise_not(img)\n",
    "_,img = cv2.threshold(img,100,255,cv2.THRESH_BINARY_INV)\n",
    "# img = cv2.medianBlur(img,5)\n",
    "# img = cv2.resize(img,(28,28),interpolation = cv2.LINEAR)\n",
    "# img = cv2.bilateralFilter(img,9,75,75)\n",
    "img = cv2.GaussianBlur(img,(5,5),0)\n",
    "img = cv2.resize(img,(28,28))\n",
    "inp = np.reshape(img, (1,28,28,1))/255.\n",
    "\n",
    "plt.imshow(img,cmap='gray')\n",
    "plt.show()\n",
    "p1 = model.predict(inp)\n",
    "# print(p)\n",
    "print(np.argmax(p1))\n"
   ]
  },
  {
   "cell_type": "code",
   "execution_count": 57,
   "metadata": {},
   "outputs": [
    {
     "data": {
      "image/png": "[encoded data removed]",
      "text/plain": [
       "<Figure size 432x288 with 1 Axes>"
      ]
     },
     "metadata": {
      "needs_background": "light"
     },
     "output_type": "display_data"
    },
    {
     "name": "stdout",
     "output_type": "stream",
     "text": [
      "Pred:  7\n",
      "Actual:  7\n",
      "-----------------------------------\n"
     ]
    },
    {
     "data": {
      "image/png": "[encoded data removed]",
      "text/plain": [
       "<Figure size 432x288 with 1 Axes>"
      ]
     },
     "metadata": {
      "needs_background": "light"
     },
     "output_type": "display_data"
    },
    {
     "name": "stdout",
     "output_type": "stream",
     "text": [
      "Pred:  2\n",
      "Actual:  2\n",
      "-----------------------------------\n"
     ]
    },
    {
     "data": {
      "image/png": "[encoded data removed]",
      "text/plain": [
       "<Figure size 432x288 with 1 Axes>"
      ]
     },
     "metadata": {
      "needs_background": "light"
     },
     "output_type": "display_data"
    },
    {
     "name": "stdout",
     "output_type": "stream",
     "text": [
      "Pred:  3\n",
      "Actual:  3\n",
      "-----------------------------------\n"
     ]
    },
    {
     "data": {
      "image/png": "[encoded data removed]",
      "text/plain": [
       "<Figure size 432x288 with 1 Axes>"
      ]
     },
     "metadata": {
      "needs_background": "light"
     },
     "output_type": "display_data"
    },
    {
     "name": "stdout",
     "output_type": "stream",
     "text": [
      "Pred:  7\n",
      "Actual:  7\n",
      "-----------------------------------\n"
     ]
    },
    {
     "data": {
      "image/png": "[encoded data removed]",
      "text/plain": [
       "<Figure size 432x288 with 1 Axes>"
      ]
     },
     "metadata": {
      "needs_background": "light"
     },
     "output_type": "display_data"
    },
    {
     "name": "stdout",
     "output_type": "stream",
     "text": [
      "Pred:  9\n",
      "Actual:  9\n",
      "-----------------------------------\n"
     ]
    },
    {
     "data": {
      "image/png": "[encoded data removed]",
      "text/plain": [
       "<Figure size 432x288 with 1 Axes>"
      ]
     },
     "metadata": {
      "needs_background": "light"
     },
     "output_type": "display_data"
    },
    {
     "name": "stdout",
     "output_type": "stream",
     "text": [
      "Pred:  9\n",
      "Actual:  9\n",
      "-----------------------------------\n"
     ]
    },
    {
     "data": {
      "image/png": "[encoded data removed]",
      "text/plain": [
       "<Figure size 432x288 with 1 Axes>"
      ]
     },
     "metadata": {
      "needs_background": "light"
     },
     "output_type": "display_data"
    },
    {
     "name": "stdout",
     "output_type": "stream",
     "text": [
      "Pred:  3\n",
      "Actual:  3\n",
      "-----------------------------------\n"
     ]
    },
    {
     "data": {
      "image/png": "[encoded data removed]",
      "text/plain": [
       "<Figure size 432x288 with 1 Axes>"
      ]
     },
     "metadata": {
      "needs_background": "light"
     },
     "output_type": "display_data"
    },
    {
     "name": "stdout",
     "output_type": "stream",
     "text": [
      "Pred:  1\n",
      "Actual:  1\n",
      "-----------------------------------\n"
     ]
    },
    {
     "data": {
      "image/png": "[encoded data removed]",
      "text/plain": [
       "<Figure size 432x288 with 1 Axes>"
      ]
     },
     "metadata": {
      "needs_background": "light"
     },
     "output_type": "display_data"
    },
    {
     "name": "stdout",
     "output_type": "stream",
     "text": [
      "Pred:  4\n",
      "Actual:  4\n",
      "-----------------------------------\n"
     ]
    },
    {
     "data": {
      "image/png": "[encoded data removed]",
      "text/plain": [
       "<Figure size 432x288 with 1 Axes>"
      ]
     },
     "metadata": {
      "needs_background": "light"
     },
     "output_type": "display_data"
    },
    {
     "name": "stdout",
     "output_type": "stream",
     "text": [
      "Pred:  2\n",
      "Actual:  2\n",
      "-----------------------------------\n"
     ]
    }
   ],
   "source": [
    "for i in range(10):\n",
    "    idx = np.random.randint(len(x_val))\n",
    "    img = x_val[idx]\n",
    "\n",
    "    plt.imshow(img,cmap='gray')\n",
    "    plt.show()\n",
    "\n",
    "    inp = np.reshape(img,(1,28,28,1))/255.\n",
    "    p1 = model.predict(inp)\n",
    "    # print(p)\n",
    "    print(\"Pred: \",np.argmax(p1))\n",
    "    print(\"Actual: \", np.argmax(y_val[idx]))\n",
    "    print(\"-----------------------------------\")\n"
   ]
  },
  {
   "cell_type": "code",
   "execution_count": 6,
   "metadata": {},
   "outputs": [],
   "source": [
    "model.load_weights('/home/sivananda/MNIST/mnist2FC_concat.h5')"
   ]
  },
  {
   "cell_type": "code",
   "execution_count": 8,
   "metadata": {},
   "outputs": [
    {
     "data": {
      "image/png": "[encoded data removed]",
      "text/plain": [
       "<Figure size 432x288 with 1 Axes>"
      ]
     },
     "metadata": {
      "needs_background": "light"
     },
     "output_type": "display_data"
    },
    {
     "name": "stdout",
     "output_type": "stream",
     "text": [
      "Pred:  3\n",
      "Actual:  0\n"
     ]
    }
   ],
   "source": [
    "idx = 5878\n",
    "# idx = np.random.randint(len(x_val))\n",
    "img = x_val[idx]\n",
    "\n",
    "plt.imshow(img,cmap='gray')\n",
    "plt.show()\n",
    "\n",
    "inp = np.reshape(img,(1,28,28,1))/255.\n",
    "p1 = model.predict(inp)\n",
    "# print(p)\n",
    "print(\"Pred: \",np.argmax(p1))\n",
    "print(\"Actual: \", np.argmax(y_val[idx]))"
   ]
  },
  {
   "cell_type": "code",
   "execution_count": null,
   "metadata": {},
   "outputs": [],
   "source": []
  }
 ],
 "metadata": {
  "kernelspec": {
   "display_name": "Python 3",
   "language": "python",
   "name": "python3"
  },
  "language_info": {
   "codemirror_mode": {
    "name": "ipython",
    "version": 3
   },
   "file_extension": ".py",
   "mimetype": "text/x-python",
   "name": "python",
   "nbconvert_exporter": "python",
   "pygments_lexer": "ipython3",
   "version": "3.6.9"
  }
 },
 "nbformat": 4,
 "nbformat_minor": 2
}
